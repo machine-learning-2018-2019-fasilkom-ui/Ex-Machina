{
 "cells": [
  {
   "cell_type": "code",
   "execution_count": 1,
   "metadata": {},
   "outputs": [],
   "source": [
    "import pandas as pd\n",
    "import nltk\n",
    "import sys\n",
    "from nltk.corpus import stopwords"
   ]
  },
  {
   "cell_type": "code",
   "execution_count": 3,
   "metadata": {},
   "outputs": [],
   "source": [
    "data_train = pd.read_csv('data_train.csv', encoding='latin-1')"
   ]
  },
  {
   "cell_type": "code",
   "execution_count": 4,
   "metadata": {},
   "outputs": [],
   "source": [
    "#REMOVE STOPWORDS\n",
    "stop_words = set(stopwords.words('english')) "
   ]
  },
  {
   "cell_type": "code",
   "execution_count": 5,
   "metadata": {},
   "outputs": [],
   "source": [
    "# define rejected stopwords bc it has sentiment info\n",
    "rejected_sw = [\"aren't\", \"couldn\", \"couldn't\", \"didn\", \"didn't\", \"doesn\", \"doesn't\", \"don't\", \"hadn\", \"hadn't\", \"hasn\", \"hasn't\", \"haven't\", \"isn\", \"isn't\", \"mightn\", \"mightn't\", \"mustn\", \"mustn't\", \"needn\", \"needn't\", \"no\", \"nor\", \"not\", \"shan't\", \"shouldn\", \"shouldn't\", \"wasn\", \"wasn't\", \"weren't\", \"won't\", \"wouldn\", \"wouldn't\",  ]"
   ]
  },
  {
   "cell_type": "code",
   "execution_count": 6,
   "metadata": {},
   "outputs": [],
   "source": [
    "acc_stopwords = []\n",
    "for i, value in enumerate(stop_words):\n",
    "    if value not in rejected_sw:\n",
    "        acc_stopwords.append(value)"
   ]
  },
  {
   "cell_type": "code",
   "execution_count": 7,
   "metadata": {},
   "outputs": [],
   "source": [
    "# remove stopwords\n",
    "filtered_sentences = []\n",
    "for i,words in enumerate(data_train['reviews.text']):\n",
    "    filtered = [word for word in words.split() if word not in acc_stopwords]\n",
    "    filtered_sentences.append(' '.join(filtered))"
   ]
  },
  {
   "cell_type": "code",
   "execution_count": 8,
   "metadata": {},
   "outputs": [
    {
     "data": {
      "text/html": [
       "<div>\n",
       "<style scoped>\n",
       "    .dataframe tbody tr th:only-of-type {\n",
       "        vertical-align: middle;\n",
       "    }\n",
       "\n",
       "    .dataframe tbody tr th {\n",
       "        vertical-align: top;\n",
       "    }\n",
       "\n",
       "    .dataframe thead th {\n",
       "        text-align: right;\n",
       "    }\n",
       "</style>\n",
       "<table border=\"1\" class=\"dataframe\">\n",
       "  <thead>\n",
       "    <tr style=\"text-align: right;\">\n",
       "      <th></th>\n",
       "      <th>Unnamed: 0</th>\n",
       "      <th>reviews.rating</th>\n",
       "      <th>reviews.text</th>\n",
       "      <th>reviews.sentiment</th>\n",
       "      <th>filtered_reviews</th>\n",
       "    </tr>\n",
       "  </thead>\n",
       "  <tbody>\n",
       "    <tr>\n",
       "      <th>0</th>\n",
       "      <td>0</td>\n",
       "      <td>5.0</td>\n",
       "      <td>This product so far has not disappointed. My c...</td>\n",
       "      <td>positive</td>\n",
       "      <td>This product far not disappointed. My children...</td>\n",
       "    </tr>\n",
       "    <tr>\n",
       "      <th>1</th>\n",
       "      <td>1</td>\n",
       "      <td>5.0</td>\n",
       "      <td>great for beginner or experienced person. Boug...</td>\n",
       "      <td>positive</td>\n",
       "      <td>great beginner experienced person. Bought gift...</td>\n",
       "    </tr>\n",
       "    <tr>\n",
       "      <th>2</th>\n",
       "      <td>2</td>\n",
       "      <td>5.0</td>\n",
       "      <td>Inexpensive tablet for him to use and learn on...</td>\n",
       "      <td>positive</td>\n",
       "      <td>Inexpensive tablet use learn on, step NABI. He...</td>\n",
       "    </tr>\n",
       "    <tr>\n",
       "      <th>3</th>\n",
       "      <td>3</td>\n",
       "      <td>4.0</td>\n",
       "      <td>I've had my Fire HD 8 two weeks now and I love...</td>\n",
       "      <td>positive</td>\n",
       "      <td>I've Fire HD 8 two weeks I love it. This table...</td>\n",
       "    </tr>\n",
       "    <tr>\n",
       "      <th>4</th>\n",
       "      <td>4</td>\n",
       "      <td>5.0</td>\n",
       "      <td>I bought this for my grand daughter when she c...</td>\n",
       "      <td>positive</td>\n",
       "      <td>I bought grand daughter comes visit. I set use...</td>\n",
       "    </tr>\n",
       "    <tr>\n",
       "      <th>5</th>\n",
       "      <td>5</td>\n",
       "      <td>5.0</td>\n",
       "      <td>This amazon fire 8 inch tablet is the perfect ...</td>\n",
       "      <td>positive</td>\n",
       "      <td>This amazon fire 8 inch tablet perfect size. I...</td>\n",
       "    </tr>\n",
       "    <tr>\n",
       "      <th>6</th>\n",
       "      <td>6</td>\n",
       "      <td>4.0</td>\n",
       "      <td>Great for e-reading on the go, nice and light ...</td>\n",
       "      <td>positive</td>\n",
       "      <td>Great e-reading go, nice light weight, price p...</td>\n",
       "    </tr>\n",
       "    <tr>\n",
       "      <th>7</th>\n",
       "      <td>7</td>\n",
       "      <td>5.0</td>\n",
       "      <td>I gave this as a Christmas gift to my inlaws, ...</td>\n",
       "      <td>positive</td>\n",
       "      <td>I gave Christmas gift inlaws, husband uncle. T...</td>\n",
       "    </tr>\n",
       "    <tr>\n",
       "      <th>8</th>\n",
       "      <td>8</td>\n",
       "      <td>5.0</td>\n",
       "      <td>Great as a device to read books. I like that i...</td>\n",
       "      <td>positive</td>\n",
       "      <td>Great device read books. I like links borrowed...</td>\n",
       "    </tr>\n",
       "    <tr>\n",
       "      <th>9</th>\n",
       "      <td>9</td>\n",
       "      <td>5.0</td>\n",
       "      <td>I love ordering books and reading them with th...</td>\n",
       "      <td>positive</td>\n",
       "      <td>I love ordering books reading reader.</td>\n",
       "    </tr>\n",
       "    <tr>\n",
       "      <th>10</th>\n",
       "      <td>10</td>\n",
       "      <td>4.0</td>\n",
       "      <td>Not easy for elderly users cease of ads that p...</td>\n",
       "      <td>positive</td>\n",
       "      <td>Not easy elderly users cease ads pop up.</td>\n",
       "    </tr>\n",
       "    <tr>\n",
       "      <th>11</th>\n",
       "      <td>11</td>\n",
       "      <td>5.0</td>\n",
       "      <td>Excellent product. Easy to use, large screen m...</td>\n",
       "      <td>positive</td>\n",
       "      <td>Excellent product. Easy use, large screen make...</td>\n",
       "    </tr>\n",
       "    <tr>\n",
       "      <th>12</th>\n",
       "      <td>12</td>\n",
       "      <td>4.0</td>\n",
       "      <td>Wanted my father to have his first tablet and ...</td>\n",
       "      <td>positive</td>\n",
       "      <td>Wanted father first tablet good value. He watc...</td>\n",
       "    </tr>\n",
       "    <tr>\n",
       "      <th>13</th>\n",
       "      <td>13</td>\n",
       "      <td>5.0</td>\n",
       "      <td>Simply does everything I need. Thank youAnd si...</td>\n",
       "      <td>positive</td>\n",
       "      <td>Simply everything I need. Thank youAnd silk wo...</td>\n",
       "    </tr>\n",
       "    <tr>\n",
       "      <th>14</th>\n",
       "      <td>14</td>\n",
       "      <td>5.0</td>\n",
       "      <td>Got it as a present and love the size of the s...</td>\n",
       "      <td>positive</td>\n",
       "      <td>Got present love size screen</td>\n",
       "    </tr>\n",
       "    <tr>\n",
       "      <th>15</th>\n",
       "      <td>15</td>\n",
       "      <td>5.0</td>\n",
       "      <td>The kindle is easiest to use, graphics and scr...</td>\n",
       "      <td>positive</td>\n",
       "      <td>The kindle easiest use, graphics screen crisp,...</td>\n",
       "    </tr>\n",
       "    <tr>\n",
       "      <th>16</th>\n",
       "      <td>16</td>\n",
       "      <td>4.0</td>\n",
       "      <td>nice reader. almost perfect for what i want/ne...</td>\n",
       "      <td>positive</td>\n",
       "      <td>nice reader. almost perfect want/need. good ba...</td>\n",
       "    </tr>\n",
       "    <tr>\n",
       "      <th>17</th>\n",
       "      <td>17</td>\n",
       "      <td>4.0</td>\n",
       "      <td>I really like this tablet. I would have given ...</td>\n",
       "      <td>positive</td>\n",
       "      <td>I really like tablet. I would given 5 stars so...</td>\n",
       "    </tr>\n",
       "    <tr>\n",
       "      <th>18</th>\n",
       "      <td>18</td>\n",
       "      <td>5.0</td>\n",
       "      <td>Great video quality lots of fun apps fun for t...</td>\n",
       "      <td>positive</td>\n",
       "      <td>Great video quality lots fun apps fun whole fa...</td>\n",
       "    </tr>\n",
       "    <tr>\n",
       "      <th>19</th>\n",
       "      <td>19</td>\n",
       "      <td>5.0</td>\n",
       "      <td>Love love love my kindle fire 8.....this is wh...</td>\n",
       "      <td>positive</td>\n",
       "      <td>Love love love kindle fire 8.....this 9 yr old...</td>\n",
       "    </tr>\n",
       "    <tr>\n",
       "      <th>20</th>\n",
       "      <td>20</td>\n",
       "      <td>5.0</td>\n",
       "      <td>Excellent tablet with nice screen. I wish Amaz...</td>\n",
       "      <td>positive</td>\n",
       "      <td>Excellent tablet nice screen. I wish Amazon wo...</td>\n",
       "    </tr>\n",
       "    <tr>\n",
       "      <th>21</th>\n",
       "      <td>21</td>\n",
       "      <td>5.0</td>\n",
       "      <td>Preloaded with the reading app from Kindle but...</td>\n",
       "      <td>positive</td>\n",
       "      <td>Preloaded reading app Kindle expandable apps. ...</td>\n",
       "    </tr>\n",
       "    <tr>\n",
       "      <th>22</th>\n",
       "      <td>22</td>\n",
       "      <td>5.0</td>\n",
       "      <td>Very happy with this product and easy to use.....</td>\n",
       "      <td>positive</td>\n",
       "      <td>Very happy product easy use..picture clear, ta...</td>\n",
       "    </tr>\n",
       "    <tr>\n",
       "      <th>23</th>\n",
       "      <td>23</td>\n",
       "      <td>5.0</td>\n",
       "      <td>My grandchildren are home schooled and utilize...</td>\n",
       "      <td>positive</td>\n",
       "      <td>My grandchildren home schooled utilize tables ...</td>\n",
       "    </tr>\n",
       "    <tr>\n",
       "      <th>24</th>\n",
       "      <td>24</td>\n",
       "      <td>5.0</td>\n",
       "      <td>Great size, easy to carry for traveling. Need ...</td>\n",
       "      <td>positive</td>\n",
       "      <td>Great size, easy carry traveling. Need spend t...</td>\n",
       "    </tr>\n",
       "    <tr>\n",
       "      <th>25</th>\n",
       "      <td>25</td>\n",
       "      <td>4.0</td>\n",
       "      <td>I purchased this when my last tablet died. It ...</td>\n",
       "      <td>positive</td>\n",
       "      <td>I purchased last tablet died. It meets basic n...</td>\n",
       "    </tr>\n",
       "    <tr>\n",
       "      <th>26</th>\n",
       "      <td>26</td>\n",
       "      <td>4.0</td>\n",
       "      <td>Perfect for downloading and reading books !! P...</td>\n",
       "      <td>positive</td>\n",
       "      <td>Perfect downloading reading books !! Perfect s...</td>\n",
       "    </tr>\n",
       "    <tr>\n",
       "      <th>27</th>\n",
       "      <td>27</td>\n",
       "      <td>5.0</td>\n",
       "      <td>I was surprised when I learned of the capabili...</td>\n",
       "      <td>positive</td>\n",
       "      <td>I surprised I learned capabilities device. Now...</td>\n",
       "    </tr>\n",
       "    <tr>\n",
       "      <th>28</th>\n",
       "      <td>28</td>\n",
       "      <td>5.0</td>\n",
       "      <td>I got it for my son. Its user friendly and dur...</td>\n",
       "      <td>positive</td>\n",
       "      <td>I got son. Its user friendly durable.</td>\n",
       "    </tr>\n",
       "    <tr>\n",
       "      <th>29</th>\n",
       "      <td>29</td>\n",
       "      <td>5.0</td>\n",
       "      <td>The visual quality on the Fire 8 HD is amazing...</td>\n",
       "      <td>positive</td>\n",
       "      <td>The visual quality Fire 8 HD amazing. It runs ...</td>\n",
       "    </tr>\n",
       "    <tr>\n",
       "      <th>...</th>\n",
       "      <td>...</td>\n",
       "      <td>...</td>\n",
       "      <td>...</td>\n",
       "      <td>...</td>\n",
       "      <td>...</td>\n",
       "    </tr>\n",
       "    <tr>\n",
       "      <th>27708</th>\n",
       "      <td>27742</td>\n",
       "      <td>5.0</td>\n",
       "      <td>Great impulse purchase, have enjoyed setting t...</td>\n",
       "      <td>positive</td>\n",
       "      <td>Great impulse purchase, enjoyed setting first ...</td>\n",
       "    </tr>\n",
       "    <tr>\n",
       "      <th>27709</th>\n",
       "      <td>27743</td>\n",
       "      <td>5.0</td>\n",
       "      <td>I didn't know if I would have much use for the...</td>\n",
       "      <td>positive</td>\n",
       "      <td>I didn't know I would much use echo I use I lo...</td>\n",
       "    </tr>\n",
       "    <tr>\n",
       "      <th>27710</th>\n",
       "      <td>27744</td>\n",
       "      <td>5.0</td>\n",
       "      <td>My 86-year-old aunt has an Echo and she recomm...</td>\n",
       "      <td>positive</td>\n",
       "      <td>My 86-year-old aunt Echo recommended I get one...</td>\n",
       "    </tr>\n",
       "    <tr>\n",
       "      <th>27711</th>\n",
       "      <td>27745</td>\n",
       "      <td>5.0</td>\n",
       "      <td>This is one of the most amazing products I hav...</td>\n",
       "      <td>positive</td>\n",
       "      <td>This one amazing products I ever purchased!I h...</td>\n",
       "    </tr>\n",
       "    <tr>\n",
       "      <th>27712</th>\n",
       "      <td>27746</td>\n",
       "      <td>4.0</td>\n",
       "      <td>It is limited to what smarthome items you prog...</td>\n",
       "      <td>positive</td>\n",
       "      <td>It limited smarthome items program for. I able...</td>\n",
       "    </tr>\n",
       "    <tr>\n",
       "      <th>27713</th>\n",
       "      <td>27747</td>\n",
       "      <td>5.0</td>\n",
       "      <td>It works as expected. Voice commands work fair...</td>\n",
       "      <td>positive</td>\n",
       "      <td>It works expected. Voice commands work fairly ...</td>\n",
       "    </tr>\n",
       "    <tr>\n",
       "      <th>27714</th>\n",
       "      <td>27748</td>\n",
       "      <td>5.0</td>\n",
       "      <td>This is a very cool toy! Honestly the only mai...</td>\n",
       "      <td>positive</td>\n",
       "      <td>This cool toy! Honestly main reason I actually...</td>\n",
       "    </tr>\n",
       "    <tr>\n",
       "      <th>27715</th>\n",
       "      <td>27749</td>\n",
       "      <td>5.0</td>\n",
       "      <td>Voice recognition is astounding with only a fe...</td>\n",
       "      <td>positive</td>\n",
       "      <td>Voice recognition astounding hang ups, mostly ...</td>\n",
       "    </tr>\n",
       "    <tr>\n",
       "      <th>27716</th>\n",
       "      <td>27750</td>\n",
       "      <td>5.0</td>\n",
       "      <td>Everyone one in my house loves the Amazon Echo...</td>\n",
       "      <td>positive</td>\n",
       "      <td>Everyone one house loves Amazon Echo. Can't wa...</td>\n",
       "    </tr>\n",
       "    <tr>\n",
       "      <th>27717</th>\n",
       "      <td>27751</td>\n",
       "      <td>5.0</td>\n",
       "      <td>I use Alexa for fun facts, listening to music ...</td>\n",
       "      <td>positive</td>\n",
       "      <td>I use Alexa fun facts, listening music telling...</td>\n",
       "    </tr>\n",
       "    <tr>\n",
       "      <th>27718</th>\n",
       "      <td>27752</td>\n",
       "      <td>3.0</td>\n",
       "      <td>I was excited to purchase the Amazon Echo, but...</td>\n",
       "      <td>negative</td>\n",
       "      <td>I excited purchase Amazon Echo, I thought I co...</td>\n",
       "    </tr>\n",
       "    <tr>\n",
       "      <th>27719</th>\n",
       "      <td>27753</td>\n",
       "      <td>5.0</td>\n",
       "      <td>I've had the Echo for several months and love ...</td>\n",
       "      <td>positive</td>\n",
       "      <td>I've Echo several months love it. The sound ex...</td>\n",
       "    </tr>\n",
       "    <tr>\n",
       "      <th>27720</th>\n",
       "      <td>27754</td>\n",
       "      <td>3.0</td>\n",
       "      <td>Very easy to setup up and can be used to autom...</td>\n",
       "      <td>negative</td>\n",
       "      <td>Very easy setup used automate home using smart...</td>\n",
       "    </tr>\n",
       "    <tr>\n",
       "      <th>27721</th>\n",
       "      <td>27755</td>\n",
       "      <td>4.0</td>\n",
       "      <td>Still needs refinement. Works well with some s...</td>\n",
       "      <td>positive</td>\n",
       "      <td>Still needs refinement. Works well smart home ...</td>\n",
       "    </tr>\n",
       "    <tr>\n",
       "      <th>27722</th>\n",
       "      <td>27756</td>\n",
       "      <td>4.0</td>\n",
       "      <td>a good device, better voice assistant apps and...</td>\n",
       "      <td>positive</td>\n",
       "      <td>good device, better voice assistant apps commands</td>\n",
       "    </tr>\n",
       "    <tr>\n",
       "      <th>27723</th>\n",
       "      <td>27757</td>\n",
       "      <td>5.0</td>\n",
       "      <td>I can see many more uses for this. I like the ...</td>\n",
       "      <td>positive</td>\n",
       "      <td>I see many uses this. I like way improved easi...</td>\n",
       "    </tr>\n",
       "    <tr>\n",
       "      <th>27724</th>\n",
       "      <td>27758</td>\n",
       "      <td>5.0</td>\n",
       "      <td>I never thought i would need this having siri,...</td>\n",
       "      <td>positive</td>\n",
       "      <td>I never thought would need siri, siri can't ti...</td>\n",
       "    </tr>\n",
       "    <tr>\n",
       "      <th>27725</th>\n",
       "      <td>27759</td>\n",
       "      <td>4.0</td>\n",
       "      <td>It's a nice toy, grandkids had hours of fun tr...</td>\n",
       "      <td>positive</td>\n",
       "      <td>It's nice toy, grandkids hours fun trying get ...</td>\n",
       "    </tr>\n",
       "    <tr>\n",
       "      <th>27726</th>\n",
       "      <td>27760</td>\n",
       "      <td>5.0</td>\n",
       "      <td>I can control lights, music, shopping lists, a...</td>\n",
       "      <td>positive</td>\n",
       "      <td>I control lights, music, shopping lists, I abl...</td>\n",
       "    </tr>\n",
       "    <tr>\n",
       "      <th>27727</th>\n",
       "      <td>27761</td>\n",
       "      <td>4.0</td>\n",
       "      <td>Other than occasionally misunderstanding and r...</td>\n",
       "      <td>positive</td>\n",
       "      <td>Other occasionally misunderstanding relentless...</td>\n",
       "    </tr>\n",
       "    <tr>\n",
       "      <th>27728</th>\n",
       "      <td>27762</td>\n",
       "      <td>5.0</td>\n",
       "      <td>Since I bought my Echo I have bought 3 others ...</td>\n",
       "      <td>positive</td>\n",
       "      <td>Since I bought Echo I bought 3 others gifts le...</td>\n",
       "    </tr>\n",
       "    <tr>\n",
       "      <th>27729</th>\n",
       "      <td>27763</td>\n",
       "      <td>5.0</td>\n",
       "      <td>Very happy with the Echo purchase!! Useful for...</td>\n",
       "      <td>positive</td>\n",
       "      <td>Very happy Echo purchase!! Useful whole family...</td>\n",
       "    </tr>\n",
       "    <tr>\n",
       "      <th>27730</th>\n",
       "      <td>27764</td>\n",
       "      <td>4.0</td>\n",
       "      <td>This has been a fun and intuitive way to play ...</td>\n",
       "      <td>positive</td>\n",
       "      <td>This fun intuitive way play music, get weather...</td>\n",
       "    </tr>\n",
       "    <tr>\n",
       "      <th>27731</th>\n",
       "      <td>27765</td>\n",
       "      <td>5.0</td>\n",
       "      <td>My wife loves the Echo. She listens to her mus...</td>\n",
       "      <td>positive</td>\n",
       "      <td>My wife loves Echo. She listens music everyday.</td>\n",
       "    </tr>\n",
       "    <tr>\n",
       "      <th>27732</th>\n",
       "      <td>27766</td>\n",
       "      <td>5.0</td>\n",
       "      <td>I love Apple, but this product is so much bett...</td>\n",
       "      <td>positive</td>\n",
       "      <td>I love Apple, product much better Siri, really...</td>\n",
       "    </tr>\n",
       "    <tr>\n",
       "      <th>27733</th>\n",
       "      <td>27767</td>\n",
       "      <td>4.0</td>\n",
       "      <td>Wish it searched the Internet like Siri. But o...</td>\n",
       "      <td>positive</td>\n",
       "      <td>Wish searched Internet like Siri. But super co...</td>\n",
       "    </tr>\n",
       "    <tr>\n",
       "      <th>27734</th>\n",
       "      <td>27768</td>\n",
       "      <td>4.0</td>\n",
       "      <td>Good project but not 5 star's. Product takes a...</td>\n",
       "      <td>positive</td>\n",
       "      <td>Good project not 5 star's. Product takes lot t...</td>\n",
       "    </tr>\n",
       "    <tr>\n",
       "      <th>27735</th>\n",
       "      <td>27769</td>\n",
       "      <td>5.0</td>\n",
       "      <td>The Amazon Echo provides both a way to coordin...</td>\n",
       "      <td>positive</td>\n",
       "      <td>The Amazon Echo provides way coordinate househ...</td>\n",
       "    </tr>\n",
       "    <tr>\n",
       "      <th>27736</th>\n",
       "      <td>27770</td>\n",
       "      <td>5.0</td>\n",
       "      <td>Can't live without it. Controls all the smart ...</td>\n",
       "      <td>positive</td>\n",
       "      <td>Can't live without it. Controls smart home gad...</td>\n",
       "    </tr>\n",
       "    <tr>\n",
       "      <th>27737</th>\n",
       "      <td>27771</td>\n",
       "      <td>5.0</td>\n",
       "      <td>Initially I figured this would be just a fun t...</td>\n",
       "      <td>positive</td>\n",
       "      <td>Initially I figured would fun toy, I resisted ...</td>\n",
       "    </tr>\n",
       "  </tbody>\n",
       "</table>\n",
       "<p>27738 rows × 5 columns</p>\n",
       "</div>"
      ],
      "text/plain": [
       "       Unnamed: 0  reviews.rating  \\\n",
       "0               0             5.0   \n",
       "1               1             5.0   \n",
       "2               2             5.0   \n",
       "3               3             4.0   \n",
       "4               4             5.0   \n",
       "5               5             5.0   \n",
       "6               6             4.0   \n",
       "7               7             5.0   \n",
       "8               8             5.0   \n",
       "9               9             5.0   \n",
       "10             10             4.0   \n",
       "11             11             5.0   \n",
       "12             12             4.0   \n",
       "13             13             5.0   \n",
       "14             14             5.0   \n",
       "15             15             5.0   \n",
       "16             16             4.0   \n",
       "17             17             4.0   \n",
       "18             18             5.0   \n",
       "19             19             5.0   \n",
       "20             20             5.0   \n",
       "21             21             5.0   \n",
       "22             22             5.0   \n",
       "23             23             5.0   \n",
       "24             24             5.0   \n",
       "25             25             4.0   \n",
       "26             26             4.0   \n",
       "27             27             5.0   \n",
       "28             28             5.0   \n",
       "29             29             5.0   \n",
       "...           ...             ...   \n",
       "27708       27742             5.0   \n",
       "27709       27743             5.0   \n",
       "27710       27744             5.0   \n",
       "27711       27745             5.0   \n",
       "27712       27746             4.0   \n",
       "27713       27747             5.0   \n",
       "27714       27748             5.0   \n",
       "27715       27749             5.0   \n",
       "27716       27750             5.0   \n",
       "27717       27751             5.0   \n",
       "27718       27752             3.0   \n",
       "27719       27753             5.0   \n",
       "27720       27754             3.0   \n",
       "27721       27755             4.0   \n",
       "27722       27756             4.0   \n",
       "27723       27757             5.0   \n",
       "27724       27758             5.0   \n",
       "27725       27759             4.0   \n",
       "27726       27760             5.0   \n",
       "27727       27761             4.0   \n",
       "27728       27762             5.0   \n",
       "27729       27763             5.0   \n",
       "27730       27764             4.0   \n",
       "27731       27765             5.0   \n",
       "27732       27766             5.0   \n",
       "27733       27767             4.0   \n",
       "27734       27768             4.0   \n",
       "27735       27769             5.0   \n",
       "27736       27770             5.0   \n",
       "27737       27771             5.0   \n",
       "\n",
       "                                            reviews.text reviews.sentiment  \\\n",
       "0      This product so far has not disappointed. My c...          positive   \n",
       "1      great for beginner or experienced person. Boug...          positive   \n",
       "2      Inexpensive tablet for him to use and learn on...          positive   \n",
       "3      I've had my Fire HD 8 two weeks now and I love...          positive   \n",
       "4      I bought this for my grand daughter when she c...          positive   \n",
       "5      This amazon fire 8 inch tablet is the perfect ...          positive   \n",
       "6      Great for e-reading on the go, nice and light ...          positive   \n",
       "7      I gave this as a Christmas gift to my inlaws, ...          positive   \n",
       "8      Great as a device to read books. I like that i...          positive   \n",
       "9      I love ordering books and reading them with th...          positive   \n",
       "10     Not easy for elderly users cease of ads that p...          positive   \n",
       "11     Excellent product. Easy to use, large screen m...          positive   \n",
       "12     Wanted my father to have his first tablet and ...          positive   \n",
       "13     Simply does everything I need. Thank youAnd si...          positive   \n",
       "14     Got it as a present and love the size of the s...          positive   \n",
       "15     The kindle is easiest to use, graphics and scr...          positive   \n",
       "16     nice reader. almost perfect for what i want/ne...          positive   \n",
       "17     I really like this tablet. I would have given ...          positive   \n",
       "18     Great video quality lots of fun apps fun for t...          positive   \n",
       "19     Love love love my kindle fire 8.....this is wh...          positive   \n",
       "20     Excellent tablet with nice screen. I wish Amaz...          positive   \n",
       "21     Preloaded with the reading app from Kindle but...          positive   \n",
       "22     Very happy with this product and easy to use.....          positive   \n",
       "23     My grandchildren are home schooled and utilize...          positive   \n",
       "24     Great size, easy to carry for traveling. Need ...          positive   \n",
       "25     I purchased this when my last tablet died. It ...          positive   \n",
       "26     Perfect for downloading and reading books !! P...          positive   \n",
       "27     I was surprised when I learned of the capabili...          positive   \n",
       "28     I got it for my son. Its user friendly and dur...          positive   \n",
       "29     The visual quality on the Fire 8 HD is amazing...          positive   \n",
       "...                                                  ...               ...   \n",
       "27708  Great impulse purchase, have enjoyed setting t...          positive   \n",
       "27709  I didn't know if I would have much use for the...          positive   \n",
       "27710  My 86-year-old aunt has an Echo and she recomm...          positive   \n",
       "27711  This is one of the most amazing products I hav...          positive   \n",
       "27712  It is limited to what smarthome items you prog...          positive   \n",
       "27713  It works as expected. Voice commands work fair...          positive   \n",
       "27714  This is a very cool toy! Honestly the only mai...          positive   \n",
       "27715  Voice recognition is astounding with only a fe...          positive   \n",
       "27716  Everyone one in my house loves the Amazon Echo...          positive   \n",
       "27717  I use Alexa for fun facts, listening to music ...          positive   \n",
       "27718  I was excited to purchase the Amazon Echo, but...          negative   \n",
       "27719  I've had the Echo for several months and love ...          positive   \n",
       "27720  Very easy to setup up and can be used to autom...          negative   \n",
       "27721  Still needs refinement. Works well with some s...          positive   \n",
       "27722  a good device, better voice assistant apps and...          positive   \n",
       "27723  I can see many more uses for this. I like the ...          positive   \n",
       "27724  I never thought i would need this having siri,...          positive   \n",
       "27725  It's a nice toy, grandkids had hours of fun tr...          positive   \n",
       "27726  I can control lights, music, shopping lists, a...          positive   \n",
       "27727  Other than occasionally misunderstanding and r...          positive   \n",
       "27728  Since I bought my Echo I have bought 3 others ...          positive   \n",
       "27729  Very happy with the Echo purchase!! Useful for...          positive   \n",
       "27730  This has been a fun and intuitive way to play ...          positive   \n",
       "27731  My wife loves the Echo. She listens to her mus...          positive   \n",
       "27732  I love Apple, but this product is so much bett...          positive   \n",
       "27733  Wish it searched the Internet like Siri. But o...          positive   \n",
       "27734  Good project but not 5 star's. Product takes a...          positive   \n",
       "27735  The Amazon Echo provides both a way to coordin...          positive   \n",
       "27736  Can't live without it. Controls all the smart ...          positive   \n",
       "27737  Initially I figured this would be just a fun t...          positive   \n",
       "\n",
       "                                        filtered_reviews  \n",
       "0      This product far not disappointed. My children...  \n",
       "1      great beginner experienced person. Bought gift...  \n",
       "2      Inexpensive tablet use learn on, step NABI. He...  \n",
       "3      I've Fire HD 8 two weeks I love it. This table...  \n",
       "4      I bought grand daughter comes visit. I set use...  \n",
       "5      This amazon fire 8 inch tablet perfect size. I...  \n",
       "6      Great e-reading go, nice light weight, price p...  \n",
       "7      I gave Christmas gift inlaws, husband uncle. T...  \n",
       "8      Great device read books. I like links borrowed...  \n",
       "9                  I love ordering books reading reader.  \n",
       "10              Not easy elderly users cease ads pop up.  \n",
       "11     Excellent product. Easy use, large screen make...  \n",
       "12     Wanted father first tablet good value. He watc...  \n",
       "13     Simply everything I need. Thank youAnd silk wo...  \n",
       "14                          Got present love size screen  \n",
       "15     The kindle easiest use, graphics screen crisp,...  \n",
       "16     nice reader. almost perfect want/need. good ba...  \n",
       "17     I really like tablet. I would given 5 stars so...  \n",
       "18     Great video quality lots fun apps fun whole fa...  \n",
       "19     Love love love kindle fire 8.....this 9 yr old...  \n",
       "20     Excellent tablet nice screen. I wish Amazon wo...  \n",
       "21     Preloaded reading app Kindle expandable apps. ...  \n",
       "22     Very happy product easy use..picture clear, ta...  \n",
       "23     My grandchildren home schooled utilize tables ...  \n",
       "24     Great size, easy carry traveling. Need spend t...  \n",
       "25     I purchased last tablet died. It meets basic n...  \n",
       "26     Perfect downloading reading books !! Perfect s...  \n",
       "27     I surprised I learned capabilities device. Now...  \n",
       "28                 I got son. Its user friendly durable.  \n",
       "29     The visual quality Fire 8 HD amazing. It runs ...  \n",
       "...                                                  ...  \n",
       "27708  Great impulse purchase, enjoyed setting first ...  \n",
       "27709  I didn't know I would much use echo I use I lo...  \n",
       "27710  My 86-year-old aunt Echo recommended I get one...  \n",
       "27711  This one amazing products I ever purchased!I h...  \n",
       "27712  It limited smarthome items program for. I able...  \n",
       "27713  It works expected. Voice commands work fairly ...  \n",
       "27714  This cool toy! Honestly main reason I actually...  \n",
       "27715  Voice recognition astounding hang ups, mostly ...  \n",
       "27716  Everyone one house loves Amazon Echo. Can't wa...  \n",
       "27717  I use Alexa fun facts, listening music telling...  \n",
       "27718  I excited purchase Amazon Echo, I thought I co...  \n",
       "27719  I've Echo several months love it. The sound ex...  \n",
       "27720  Very easy setup used automate home using smart...  \n",
       "27721  Still needs refinement. Works well smart home ...  \n",
       "27722  good device, better voice assistant apps commands  \n",
       "27723  I see many uses this. I like way improved easi...  \n",
       "27724  I never thought would need siri, siri can't ti...  \n",
       "27725  It's nice toy, grandkids hours fun trying get ...  \n",
       "27726  I control lights, music, shopping lists, I abl...  \n",
       "27727  Other occasionally misunderstanding relentless...  \n",
       "27728  Since I bought Echo I bought 3 others gifts le...  \n",
       "27729  Very happy Echo purchase!! Useful whole family...  \n",
       "27730  This fun intuitive way play music, get weather...  \n",
       "27731    My wife loves Echo. She listens music everyday.  \n",
       "27732  I love Apple, product much better Siri, really...  \n",
       "27733  Wish searched Internet like Siri. But super co...  \n",
       "27734  Good project not 5 star's. Product takes lot t...  \n",
       "27735  The Amazon Echo provides way coordinate househ...  \n",
       "27736  Can't live without it. Controls smart home gad...  \n",
       "27737  Initially I figured would fun toy, I resisted ...  \n",
       "\n",
       "[27738 rows x 5 columns]"
      ]
     },
     "execution_count": 8,
     "metadata": {},
     "output_type": "execute_result"
    }
   ],
   "source": [
    "# add new column to store the sentences which stopwords has been removed\n",
    "data_train['filtered_reviews'] = pd.Series(filtered_sentences, index=data_train.index)\n",
    "data_train"
   ]
  },
  {
   "cell_type": "code",
   "execution_count": null,
   "metadata": {},
   "outputs": [],
   "source": [
    "#data_train.to_csv('filtered_train.csv', index=False)"
   ]
  },
  {
   "cell_type": "code",
   "execution_count": null,
   "metadata": {},
   "outputs": [],
   "source": [
    "data_test = pd.read_csv('data_test.csv',  encoding='latin-1')"
   ]
  },
  {
   "cell_type": "code",
   "execution_count": null,
   "metadata": {},
   "outputs": [],
   "source": [
    "# remove stopwords\n",
    "filtered_sentences_test = []\n",
    "for i,words in enumerate(data_test['reviews.text']):\n",
    "    filtered = [word for word in words.split() if word not in acc_stopwords]\n",
    "    filtered_sentences_test.append(' '.join(filtered))"
   ]
  },
  {
   "cell_type": "code",
   "execution_count": null,
   "metadata": {},
   "outputs": [],
   "source": [
    "# add new column to store the sentences which stopwords has been removed\n",
    "data_test['filtered_reviews'] = pd.Series(filtered_sentences_test, index=data_test.index)\n",
    "data_test.shape"
   ]
  },
  {
   "cell_type": "code",
   "execution_count": null,
   "metadata": {},
   "outputs": [],
   "source": [
    "#data_test.to_csv('filtered_test.csv', index=False)"
   ]
  },
  {
   "cell_type": "code",
   "execution_count": 38,
   "metadata": {},
   "outputs": [],
   "source": [
    "data_test_w_sent = pd.read_csv('data_test_with_sentiment.csv',  encoding='latin-1')"
   ]
  },
  {
   "cell_type": "code",
   "execution_count": 39,
   "metadata": {},
   "outputs": [],
   "source": [
    "# remove stopwords\n",
    "filtered_sentences_test_sent = []\n",
    "for i,words in enumerate(data_test_w_sent['reviews.text']):\n",
    "    filtered = [word for word in words.split() if word not in acc_stopwords]\n",
    "    filtered_sentences_test_sent.append(' '.join(filtered))"
   ]
  },
  {
   "cell_type": "code",
   "execution_count": 40,
   "metadata": {},
   "outputs": [],
   "source": [
    "# add new column to store the sentences which stopwords has been removed\n",
    "data_test_w_sent['filtered_reviews'] = pd.Series(filtered_sentences_test_sent, index=data_test_w_sent.index)"
   ]
  },
  {
   "cell_type": "code",
   "execution_count": null,
   "metadata": {},
   "outputs": [],
   "source": [
    "#data_test_w_sent.to_csv('filtered_test_w_sentiment.csv', index=False)"
   ]
  },
  {
   "cell_type": "code",
   "execution_count": null,
   "metadata": {},
   "outputs": [],
   "source": [
    "# STEMMING (skip dulu)\n",
    "from nltk.stem.snowball import SnowballStemmer"
   ]
  },
  {
   "cell_type": "code",
   "execution_count": null,
   "metadata": {},
   "outputs": [],
   "source": [
    "stemmer = SnowballStemmer(\"english\")"
   ]
  },
  {
   "cell_type": "code",
   "execution_count": null,
   "metadata": {},
   "outputs": [],
   "source": [
    "stemmed_train = []\n",
    "for words in data_train['filtered_reviews']:\n",
    "    #store each words that have been stemmed in an array of stems\n",
    "    stems = []\n",
    "    for word in words.split():\n",
    "        stem = stemmer.stem(word)\n",
    "        stems.append(stem)\n",
    "    #store each sentences from stems in an array of stemmed_train\n",
    "    stemmed_train.append(' '.join(stems))\n",
    "stemmed_train"
   ]
  },
  {
   "cell_type": "code",
   "execution_count": null,
   "metadata": {},
   "outputs": [],
   "source": [
    "data_train['stemmed_reviews'] = pd.Series(stemmed_train, index=data_train.index)"
   ]
  },
  {
   "cell_type": "code",
   "execution_count": null,
   "metadata": {},
   "outputs": [],
   "source": [
    "#data_train.to_csv('stem_train.csv', index=False)"
   ]
  },
  {
   "cell_type": "code",
   "execution_count": null,
   "metadata": {},
   "outputs": [],
   "source": [
    "stemmed_test = []\n",
    "for words in data_test['filtered_reviews']:\n",
    "    #store each words that have been stemmed in an array of stems\n",
    "    stems = []\n",
    "    for word in words.split():\n",
    "        stem = stemmer.stem(word)\n",
    "        stems.append(stem)\n",
    "    #store each sentences from stems in an array of stemmed_train\n",
    "    stemmed_test.append(' '.join(stems))\n",
    "stemmed_test"
   ]
  },
  {
   "cell_type": "code",
   "execution_count": null,
   "metadata": {},
   "outputs": [],
   "source": [
    "data_test['stemmed_reviews'] = pd.Series(stemmed_test, index=data_test.index)"
   ]
  },
  {
   "cell_type": "code",
   "execution_count": null,
   "metadata": {},
   "outputs": [],
   "source": [
    "#data_test.to_csv('stem_test.csv', index=False)"
   ]
  },
  {
   "cell_type": "code",
   "execution_count": null,
   "metadata": {},
   "outputs": [],
   "source": [
    "stemmed_test_sent = []\n",
    "for words in data_test_w_sent['filtered_reviews']:\n",
    "    #store each words that have been stemmed in an array of stems\n",
    "    stems = []\n",
    "    for word in words.split():\n",
    "        stem = stemmer.stem(word)\n",
    "        stems.append(stem)\n",
    "    #store each sentences from stems in an array of stemmed_train\n",
    "    stemmed_test_sent.append(' '.join(stems))\n",
    "stemmed_test_sent"
   ]
  },
  {
   "cell_type": "code",
   "execution_count": null,
   "metadata": {},
   "outputs": [],
   "source": [
    "data_test_w_sent['stemmed_reviews'] = pd.Series(stemmed_test_sent, index=data_test_w_sent.index)"
   ]
  },
  {
   "cell_type": "code",
   "execution_count": null,
   "metadata": {},
   "outputs": [],
   "source": [
    "#data_test_w_sent.to_csv('stem_test_w_sent.csv', index=False)\n",
    "# END SKIP"
   ]
  },
  {
   "cell_type": "code",
   "execution_count": 9,
   "metadata": {},
   "outputs": [],
   "source": [
    "# binary sentiment. 0 for - 1 for +\n",
    "bin_sent = []\n",
    "for i in range(len(data_train)):\n",
    "    bs = []\n",
    "    if data_train['reviews.sentiment'][i] == 'negative':\n",
    "        bin_sent.append(0)\n",
    "    else:\n",
    "        bin_sent.append(1)"
   ]
  },
  {
   "cell_type": "code",
   "execution_count": 10,
   "metadata": {},
   "outputs": [],
   "source": [
    "# store binary sentiments to df\n",
    "data_train['binary_sentiment'] = pd.Series(bin_sent, index=data_train.index)"
   ]
  },
  {
   "cell_type": "code",
   "execution_count": 42,
   "metadata": {},
   "outputs": [],
   "source": [
    "# binary sentiment for testing data. 0 for - 1 for +\n",
    "bin_sent = []\n",
    "for i in range(len(data_test_w_sent)):\n",
    "    bs = []\n",
    "    if data_test_w_sent['reviews.sentiment'][i] == 'negative':\n",
    "        bin_sent.append(0)\n",
    "    else:\n",
    "        bin_sent.append(1)\n",
    "# store binary sentiments to df\n",
    "data_test_w_sent['binary_sentiment'] = pd.Series(bin_sent, index=data_test_w_sent.index)"
   ]
  },
  {
   "cell_type": "code",
   "execution_count": 11,
   "metadata": {},
   "outputs": [],
   "source": [
    "#sampling bc data isn't balanced\n",
    "train_sample = data_train.loc[data_train['reviews.sentiment'] == 'negative'].sample(n=1942, random_state=1234)"
   ]
  },
  {
   "cell_type": "code",
   "execution_count": 12,
   "metadata": {},
   "outputs": [
    {
     "data": {
      "text/plain": [
       "(3884, 6)"
      ]
     },
     "execution_count": 12,
     "metadata": {},
     "output_type": "execute_result"
    }
   ],
   "source": [
    "train_sample_positive = data_train.loc[data_train['reviews.sentiment'] == 'positive'].sample(n=1942, random_state=1234)\n",
    "train_sample = train_sample.append(train_sample_positive)\n",
    "train_sample.shape"
   ]
  },
  {
   "cell_type": "code",
   "execution_count": 13,
   "metadata": {},
   "outputs": [],
   "source": [
    "# FEATURE EXTRACTION 1ST APPROACH TF-IDF\n",
    "from sklearn.feature_extraction.text import TfidfVectorizer"
   ]
  },
  {
   "cell_type": "code",
   "execution_count": 14,
   "metadata": {},
   "outputs": [],
   "source": [
    "vectorizer = TfidfVectorizer()"
   ]
  },
  {
   "cell_type": "code",
   "execution_count": 15,
   "metadata": {},
   "outputs": [],
   "source": [
    "X = vectorizer.fit_transform(train_sample['filtered_reviews'])"
   ]
  },
  {
   "cell_type": "code",
   "execution_count": 43,
   "metadata": {},
   "outputs": [],
   "source": [
    "X_test = vectorizer.transform(data_test_w_sent['filtered_reviews'])"
   ]
  },
  {
   "cell_type": "code",
   "execution_count": null,
   "metadata": {},
   "outputs": [],
   "source": [
    "##2nd Approach of FEATURE EXTRACTION USING CountVectorizer"
   ]
  },
  {
   "cell_type": "code",
   "execution_count": 26,
   "metadata": {},
   "outputs": [],
   "source": [
    "from sklearn.feature_extraction.text import CountVectorizer"
   ]
  },
  {
   "cell_type": "code",
   "execution_count": 27,
   "metadata": {},
   "outputs": [],
   "source": [
    "cv = CountVectorizer(binary=False)"
   ]
  },
  {
   "cell_type": "code",
   "execution_count": 28,
   "metadata": {},
   "outputs": [
    {
     "data": {
      "text/plain": [
       "CountVectorizer(analyzer='word', binary=False, decode_error='strict',\n",
       "        dtype=<class 'numpy.int64'>, encoding='utf-8', input='content',\n",
       "        lowercase=True, max_df=1.0, max_features=None, min_df=1,\n",
       "        ngram_range=(1, 1), preprocessor=None, stop_words=None,\n",
       "        strip_accents=None, token_pattern='(?u)\\\\b\\\\w\\\\w+\\\\b',\n",
       "        tokenizer=None, vocabulary=None)"
      ]
     },
     "execution_count": 28,
     "metadata": {},
     "output_type": "execute_result"
    }
   ],
   "source": [
    "cv.fit(train_sample['filtered_reviews'])"
   ]
  },
  {
   "cell_type": "code",
   "execution_count": 30,
   "metadata": {},
   "outputs": [],
   "source": [
    "X_cv = cv.transform(train_sample['filtered_reviews'])"
   ]
  },
  {
   "cell_type": "code",
   "execution_count": 53,
   "metadata": {},
   "outputs": [],
   "source": [
    "X_test_cv = cv.transform(data_test_w_sent['filtered_reviews'])"
   ]
  },
  {
   "cell_type": "code",
   "execution_count": 16,
   "metadata": {},
   "outputs": [],
   "source": [
    "# TRAINING\n",
    "from sklearn.linear_model import LogisticRegression"
   ]
  },
  {
   "cell_type": "code",
   "execution_count": 17,
   "metadata": {},
   "outputs": [],
   "source": [
    "import sklearn.metrics"
   ]
  },
  {
   "cell_type": "code",
   "execution_count": 18,
   "metadata": {},
   "outputs": [],
   "source": [
    "from sklearn.metrics import accuracy_score"
   ]
  },
  {
   "cell_type": "code",
   "execution_count": 19,
   "metadata": {},
   "outputs": [],
   "source": [
    "from sklearn.model_selection import train_test_split"
   ]
  },
  {
   "cell_type": "code",
   "execution_count": 20,
   "metadata": {},
   "outputs": [],
   "source": [
    "validation_size = 0.30 \n",
    "seed = 1234 #generate same sample\n",
    "Y = train_sample['binary_sentiment']\n",
    "X_train, X_validation, Y_train, Y_validation = train_test_split(X, Y, test_size=validation_size, random_state=seed)"
   ]
  },
  {
   "cell_type": "code",
   "execution_count": 21,
   "metadata": {},
   "outputs": [
    {
     "data": {
      "text/plain": [
       "LogisticRegression(C=1.0, class_weight=None, dual=False, fit_intercept=True,\n",
       "          intercept_scaling=1, max_iter=100, multi_class='ovr', n_jobs=1,\n",
       "          penalty='l2', random_state=None, solver='liblinear', tol=0.0001,\n",
       "          verbose=0, warm_start=False)"
      ]
     },
     "execution_count": 21,
     "metadata": {},
     "output_type": "execute_result"
    }
   ],
   "source": [
    "logreg = LogisticRegression()\n",
    "logreg.fit(X_train, Y_train)"
   ]
  },
  {
   "cell_type": "code",
   "execution_count": 22,
   "metadata": {},
   "outputs": [],
   "source": [
    "y_train_pred = logreg.predict(X_train)\n",
    "y_val_pred = logreg.predict(X_validation)"
   ]
  },
  {
   "cell_type": "code",
   "execution_count": 23,
   "metadata": {},
   "outputs": [
    {
     "name": "stdout",
     "output_type": "stream",
     "text": [
      "Akurasi Data Training : 0.88373804267844\n",
      "Akurasi Data Testing : 0.7847341337907375\n",
      "Confusion Matriks Data Training :\n",
      "[[1220  151]\n",
      " [ 165 1182]]\n"
     ]
    }
   ],
   "source": [
    "print(\"Akurasi Data Training : \" + str(logreg.score(X_train, Y_train)))\n",
    "print(\"Akurasi Data Testing : \" + str(logreg.score(X_validation, Y_validation)))\n",
    "print(\"Confusion Matriks Data Training :\\n\" + str(sklearn.metrics.confusion_matrix(Y_train, y_train_pred)))"
   ]
  },
  {
   "cell_type": "code",
   "execution_count": 24,
   "metadata": {},
   "outputs": [
    {
     "name": "stdout",
     "output_type": "stream",
     "text": [
      "Confusion Matriks Data Testing :\n",
      "[[450 121]\n",
      " [130 465]]\n"
     ]
    }
   ],
   "source": [
    "print(\"Confusion Matriks Data Testing :\\n\" + str(sklearn.metrics.confusion_matrix(Y_validation, y_val_pred)))"
   ]
  },
  {
   "cell_type": "code",
   "execution_count": 31,
   "metadata": {},
   "outputs": [],
   "source": [
    "import pickle"
   ]
  },
  {
   "cell_type": "code",
   "execution_count": 33,
   "metadata": {},
   "outputs": [],
   "source": [
    "saved_model = pickle.dumps(logreg)"
   ]
  },
  {
   "cell_type": "code",
   "execution_count": 36,
   "metadata": {},
   "outputs": [],
   "source": [
    "# Load the pickled model\n",
    "classifier_from_pickle = pickle.loads(saved_model)\n",
    "\n",
    "# Use the loaded pickled model to make predictions\n",
    "x_cv_pred = classifier_from_pickle.predict(X_cv)"
   ]
  },
  {
   "cell_type": "code",
   "execution_count": 49,
   "metadata": {},
   "outputs": [
    {
     "name": "stdout",
     "output_type": "stream",
     "text": [
      "0.8256951596292482\n"
     ]
    }
   ],
   "source": [
    "#accuracy of x_cv\n",
    "result = classifier_from_pickle.score(X_cv, Y)\n",
    "print(result)"
   ]
  },
  {
   "cell_type": "code",
   "execution_count": 51,
   "metadata": {},
   "outputs": [],
   "source": [
    "Y_test = data_test_w_sent['binary_sentiment']"
   ]
  },
  {
   "cell_type": "code",
   "execution_count": 52,
   "metadata": {},
   "outputs": [
    {
     "name": "stdout",
     "output_type": "stream",
     "text": [
      "0.7302935980482881\n"
     ]
    }
   ],
   "source": [
    "# Use the loaded pickled model to make predictions of data_test \n",
    "x_test_pred = classifier_from_pickle.predict(X_test)\n",
    "#accuracy of x_cv\n",
    "result = classifier_from_pickle.score(X_test, Y_test)\n",
    "print(result)"
   ]
  },
  {
   "cell_type": "code",
   "execution_count": 54,
   "metadata": {},
   "outputs": [
    {
     "name": "stdout",
     "output_type": "stream",
     "text": [
      "0.7816942878775133\n"
     ]
    }
   ],
   "source": [
    "# Use the loaded pickled model to make predictions of data_test \n",
    "x_test_pred = classifier_from_pickle.predict(X_test_cv)\n",
    "#accuracy of x_cv\n",
    "result = classifier_from_pickle.score(X_test_cv, Y_test)\n",
    "print(result)"
   ]
  },
  {
   "cell_type": "code",
   "execution_count": 55,
   "metadata": {},
   "outputs": [
    {
     "data": {
      "text/plain": [
       "(11887, 5829)"
      ]
     },
     "execution_count": 55,
     "metadata": {},
     "output_type": "execute_result"
    }
   ],
   "source": [
    "X_test.shape"
   ]
  },
  {
   "cell_type": "code",
   "execution_count": 56,
   "metadata": {},
   "outputs": [
    {
     "data": {
      "text/plain": [
       "(3884, 5829)"
      ]
     },
     "execution_count": 56,
     "metadata": {},
     "output_type": "execute_result"
    }
   ],
   "source": [
    "X.shape"
   ]
  },
  {
   "cell_type": "code",
   "execution_count": null,
   "metadata": {},
   "outputs": [],
   "source": []
  }
 ],
 "metadata": {
  "kernelspec": {
   "display_name": "Python 3",
   "language": "python",
   "name": "python3"
  },
  "language_info": {
   "codemirror_mode": {
    "name": "ipython",
    "version": 3
   },
   "file_extension": ".py",
   "mimetype": "text/x-python",
   "name": "python",
   "nbconvert_exporter": "python",
   "pygments_lexer": "ipython3",
   "version": "3.6.2"
  }
 },
 "nbformat": 4,
 "nbformat_minor": 2
}
